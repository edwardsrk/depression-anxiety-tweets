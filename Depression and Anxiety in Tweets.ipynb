{
 "cells": [
  {
   "cell_type": "code",
   "execution_count": 1,
   "metadata": {},
   "outputs": [],
   "source": [
    "import pandas as pd\n",
    "import numpy as np\n",
    "import matplotlib.pyplot as plt"
   ]
  },
  {
   "cell_type": "code",
   "execution_count": 19,
   "metadata": {},
   "outputs": [],
   "source": [
    "df1 = pd.read_csv('C:/Users/edwardsrk/anxiety-tweets/depression-anxiety-tweets/0314_1.csv')\n",
    "df1 = pd.read_csv('C:/Users/edwardsrk/anxiety-tweets/depression-anxiety-tweets/0314_1.csv')\n",
    "\n"
   ]
  },
  {
   "cell_type": "code",
   "execution_count": 20,
   "metadata": {},
   "outputs": [
    {
     "data": {
      "text/html": [
       "<div>\n",
       "<style scoped>\n",
       "    .dataframe tbody tr th:only-of-type {\n",
       "        vertical-align: middle;\n",
       "    }\n",
       "\n",
       "    .dataframe tbody tr th {\n",
       "        vertical-align: top;\n",
       "    }\n",
       "\n",
       "    .dataframe thead th {\n",
       "        text-align: right;\n",
       "    }\n",
       "</style>\n",
       "<table border=\"1\" class=\"dataframe\">\n",
       "  <thead>\n",
       "    <tr style=\"text-align: right;\">\n",
       "      <th></th>\n",
       "      <th>date</th>\n",
       "      <th>username</th>\n",
       "      <th>to</th>\n",
       "      <th>replies</th>\n",
       "      <th>retweets</th>\n",
       "      <th>favorites</th>\n",
       "      <th>text</th>\n",
       "      <th>geo</th>\n",
       "      <th>mentions</th>\n",
       "      <th>hashtags</th>\n",
       "      <th>id</th>\n",
       "      <th>permalink</th>\n",
       "    </tr>\n",
       "  </thead>\n",
       "  <tbody>\n",
       "    <tr>\n",
       "      <th>0</th>\n",
       "      <td>3/14/2020 23:55</td>\n",
       "      <td>AlbertoxVazquez</td>\n",
       "      <td>NaN</td>\n",
       "      <td>0</td>\n",
       "      <td>1</td>\n",
       "      <td>5</td>\n",
       "      <td>Bout to depression buy these OnlyFans while I’...</td>\n",
       "      <td>NaN</td>\n",
       "      <td>NaN</td>\n",
       "      <td>NaN</td>\n",
       "      <td>1.238980e+18</td>\n",
       "      <td>https://twitter.com/AlbertoxVazquez/status/123...</td>\n",
       "    </tr>\n",
       "    <tr>\n",
       "      <th>1</th>\n",
       "      <td>3/14/2020 23:54</td>\n",
       "      <td>TheOGKennedy</td>\n",
       "      <td>NaN</td>\n",
       "      <td>6</td>\n",
       "      <td>2</td>\n",
       "      <td>63</td>\n",
       "      <td>Pretty lucky for me how we ended up in the onl...</td>\n",
       "      <td>NaN</td>\n",
       "      <td>NaN</td>\n",
       "      <td>NaN</td>\n",
       "      <td>1.238980e+18</td>\n",
       "      <td>https://twitter.com/TheOGKennedy/status/123897...</td>\n",
       "    </tr>\n",
       "    <tr>\n",
       "      <th>2</th>\n",
       "      <td>3/14/2020 23:45</td>\n",
       "      <td>megmarie5</td>\n",
       "      <td>NaN</td>\n",
       "      <td>0</td>\n",
       "      <td>0</td>\n",
       "      <td>0</td>\n",
       "      <td>@ariana2525 I myself suffered &amp; still suffer. ...</td>\n",
       "      <td>NaN</td>\n",
       "      <td>@ariana2525</td>\n",
       "      <td>NaN</td>\n",
       "      <td>1.238970e+18</td>\n",
       "      <td>https://twitter.com/megmarie5/status/123897468...</td>\n",
       "    </tr>\n",
       "    <tr>\n",
       "      <th>3</th>\n",
       "      <td>3/14/2020 23:43</td>\n",
       "      <td>BoozyBillsBabe</td>\n",
       "      <td>NaN</td>\n",
       "      <td>13</td>\n",
       "      <td>0</td>\n",
       "      <td>39</td>\n",
       "      <td>Second full day of self-quarantine and I am ju...</td>\n",
       "      <td>NaN</td>\n",
       "      <td>NaN</td>\n",
       "      <td>NaN</td>\n",
       "      <td>1.238970e+18</td>\n",
       "      <td>https://twitter.com/BoozyBillsBabe/status/1238...</td>\n",
       "    </tr>\n",
       "    <tr>\n",
       "      <th>4</th>\n",
       "      <td>3/14/2020 23:42</td>\n",
       "      <td>megmarie5</td>\n",
       "      <td>NaN</td>\n",
       "      <td>0</td>\n",
       "      <td>0</td>\n",
       "      <td>1</td>\n",
       "      <td>I’m behind on @VanderpumpRules and binge watch...</td>\n",
       "      <td>NaN</td>\n",
       "      <td>@VanderpumpRules @ariana2525</td>\n",
       "      <td>NaN</td>\n",
       "      <td>1.238970e+18</td>\n",
       "      <td>https://twitter.com/megmarie5/status/123897385...</td>\n",
       "    </tr>\n",
       "  </tbody>\n",
       "</table>\n",
       "</div>"
      ],
      "text/plain": [
       "              date         username   to  replies  retweets  favorites  \\\n",
       "0  3/14/2020 23:55  AlbertoxVazquez  NaN        0         1          5   \n",
       "1  3/14/2020 23:54     TheOGKennedy  NaN        6         2         63   \n",
       "2  3/14/2020 23:45        megmarie5  NaN        0         0          0   \n",
       "3  3/14/2020 23:43   BoozyBillsBabe  NaN       13         0         39   \n",
       "4  3/14/2020 23:42        megmarie5  NaN        0         0          1   \n",
       "\n",
       "                                                text  geo  \\\n",
       "0  Bout to depression buy these OnlyFans while I’...  NaN   \n",
       "1  Pretty lucky for me how we ended up in the onl...  NaN   \n",
       "2  @ariana2525 I myself suffered & still suffer. ...  NaN   \n",
       "3  Second full day of self-quarantine and I am ju...  NaN   \n",
       "4  I’m behind on @VanderpumpRules and binge watch...  NaN   \n",
       "\n",
       "                       mentions hashtags            id  \\\n",
       "0                           NaN      NaN  1.238980e+18   \n",
       "1                           NaN      NaN  1.238980e+18   \n",
       "2                   @ariana2525      NaN  1.238970e+18   \n",
       "3                           NaN      NaN  1.238970e+18   \n",
       "4  @VanderpumpRules @ariana2525      NaN  1.238970e+18   \n",
       "\n",
       "                                           permalink  \n",
       "0  https://twitter.com/AlbertoxVazquez/status/123...  \n",
       "1  https://twitter.com/TheOGKennedy/status/123897...  \n",
       "2  https://twitter.com/megmarie5/status/123897468...  \n",
       "3  https://twitter.com/BoozyBillsBabe/status/1238...  \n",
       "4  https://twitter.com/megmarie5/status/123897385...  "
      ]
     },
     "execution_count": 20,
     "metadata": {},
     "output_type": "execute_result"
    }
   ],
   "source": [
    "df1.head()"
   ]
  },
  {
   "cell_type": "code",
   "execution_count": 21,
   "metadata": {},
   "outputs": [
    {
     "data": {
      "text/plain": [
       "(288, 12)"
      ]
     },
     "execution_count": 21,
     "metadata": {},
     "output_type": "execute_result"
    }
   ],
   "source": [
    "df1.shape"
   ]
  },
  {
   "cell_type": "code",
   "execution_count": 22,
   "metadata": {},
   "outputs": [
    {
     "data": {
      "text/plain": [
       "271"
      ]
     },
     "execution_count": 22,
     "metadata": {},
     "output_type": "execute_result"
    }
   ],
   "source": [
    "df1.username.nunique()"
   ]
  },
  {
   "cell_type": "code",
   "execution_count": 10,
   "metadata": {},
   "outputs": [
    {
     "name": "stdout",
     "output_type": "stream",
     "text": [
      "No.of.unique values in each column :\n",
      "        text\n",
      "label      \n",
      "0      1246\n",
      "1       718\n"
     ]
    }
   ],
   "source": []
  },
  {
   "cell_type": "code",
   "execution_count": null,
   "metadata": {},
   "outputs": [],
   "source": []
  }
 ],
 "metadata": {
  "kernelspec": {
   "display_name": "Python 3",
   "language": "python",
   "name": "python3"
  },
  "language_info": {
   "codemirror_mode": {
    "name": "ipython",
    "version": 3
   },
   "file_extension": ".py",
   "mimetype": "text/x-python",
   "name": "python",
   "nbconvert_exporter": "python",
   "pygments_lexer": "ipython3",
   "version": "3.8.5"
  }
 },
 "nbformat": 4,
 "nbformat_minor": 4
}
